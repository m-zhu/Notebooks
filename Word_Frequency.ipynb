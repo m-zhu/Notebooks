{
 "cells": [
  {
   "cell_type": "code",
   "execution_count": 1,
   "metadata": {},
   "outputs": [
    {
     "name": "stdout",
     "output_type": "stream",
     "text": [
      "Counter({'好好': 3029, '六子': 2851, '未知好友': 48})\n"
     ]
    }
   ],
   "source": [
    "import io\n",
    "import collections\n",
    "from operator import itemgetter\n",
    "\n",
    "import numpy as np\n",
    "import pandas as pd\n",
    "from scipy import stats, integrate\n",
    "import seaborn as sns\n",
    "import matplotlib.pyplot as plt\n",
    "import jieba\n",
    "\n",
    "sns.set(color_codes=True)\n",
    "\n",
    "dateparse = lambda x: pd.datetime.strptime(x, '%Y-%m-%d  %H:%M:%S')\n",
    "df = pd.read_csv(\"~/Wechat/record.csv\",encoding='utf-8', parse_dates=['日期'], date_parser=dateparse)\n",
    "\n",
    "df = df[df[\"消息内容\"].notnull()]\n",
    "\n",
    "total_count = collections.Counter(df[\"对话分组名\"])\n",
    "print(total_count)\n",
    "\n",
    "df_dict = {}\n",
    "for k, v in sorted(total_count.items(), key=itemgetter(1),reverse=True)[:2]:\n",
    "\tdf_temp = df[df[\"对话分组名\"] == k]\n",
    "\tdf_dict[k] = df_temp"
   ]
  },
  {
   "cell_type": "code",
   "execution_count": 47,
   "metadata": {},
   "outputs": [],
   "source": [
    "def count_word(df, suffix, show=20):\n",
    "\tword_list = []\n",
    "\tfor i,text in enumerate(df[\"消息内容\"]):\n",
    "\t\tseg_list  = jieba.lcut(text, cut_all=True)\n",
    "\t\tword_list.extend(seg_list)\n",
    "\n",
    "\tfor s in word_list:\n",
    "\t\tif len(s) > 20:\n",
    "\t\t\tword_list.remove(s)\n",
    "\tword_count = collections.Counter(word_list)\n",
    "\n",
    "\tfp = io.open(\"./result_{:s}.txt\".format(suffix),\"w\", encoding=\"utf-8\")\n",
    "\tfor i,(k, v) in enumerate(sorted(word_count.items(), key=itemgetter(1),reverse=True)):\n",
    "\t\tif i < show and k:\n",
    "# \t\t\tprint(type(k),len(k),not k,k.encode('utf-8'))\n",
    "\t\t\tprint(i,k,v)\n",
    "\t\tfp.write(k+\": \"+str(v)+\"\\n\")\n",
    "\tfp.close()\n",
    "\n",
    "\treturn word_count"
   ]
  },
  {
   "cell_type": "code",
   "execution_count": 48,
   "metadata": {},
   "outputs": [
    {
     "name": "stdout",
     "output_type": "stream",
     "text": [
      "1 我 911\n",
      "2 的 756\n",
      "3 你 717\n",
      "4 了 603\n",
      "5 app 277\n",
      "6 恢复 276\n",
      "7 Contents 275\n",
      "8 苹果 275\n",
      "9 1511142866 275\n",
      "10 Backup 275\n",
      "11 MacOS 275\n",
      "12 大师 275\n",
      "13 Applications 275\n",
      "14 好 262\n",
      "15 是 252\n",
      "16 哈哈 242\n",
      "17 吧 226\n",
      "18 就 214\n",
      "19 做 214\n",
      "20 啊 212\n",
      "21 要 179\n",
      "22 吗 178\n",
      "23 脸 176\n",
      "24 捂 174\n",
      "25 可以 171\n",
      "26 哈哈哈 154\n",
      "27 在 147\n",
      "28 去 145\n",
      "29 都 138\n",
      "30 不 137\n",
      "31 我们 131\n",
      "32 也 129\n",
      "33 那 121\n",
      "34 说 120\n",
      "35 有 113\n",
      "36 CDATA 108\n",
      "37 那个 105\n",
      "38 微笑 103\n",
      "39 不是 101\n",
      "40 还 101\n",
      "41 他 101\n",
      "42 想 96\n",
      "43 T 96\n",
      "44 一个 94\n",
      "45 和 93\n",
      "46 一下 92\n",
      "47 Attachment 92\n",
      "48 m6 92\n",
      "49 folders 92\n"
     ]
    }
   ],
   "source": [
    "word_count_all = count_word(df,\"all\",50) # show first 50 phrases"
   ]
  },
  {
   "cell_type": "code",
   "execution_count": 49,
   "metadata": {},
   "outputs": [
    {
     "name": "stdout",
     "output_type": "stream",
     "text": [
      "六子: \n",
      "1 我 475\n",
      "2 你 327\n",
      "3 的 319\n",
      "4 了 275\n",
      "5 好 139\n",
      "6 app 135\n",
      "7 恢复 134\n",
      "8 Contents 133\n",
      "9 大师 133\n",
      "10 苹果 133\n",
      "11 1511142866 133\n",
      "12 Backup 133\n",
      "13 MacOS 133\n",
      "14 Applications 133\n",
      "15 是 104\n",
      "16 就 100\n",
      "17 要 99\n",
      "18 哈哈 95\n",
      "19 吧 95\n",
      "好好: \n",
      "1 我 436\n",
      "2 的 432\n",
      "3 你 354\n",
      "4 了 282\n",
      "5 是 148\n",
      "6 哈哈 147\n",
      "7 Contents 142\n",
      "8 app 142\n",
      "9 大师 142\n",
      "10 恢复 142\n",
      "11 苹果 142\n",
      "12 1511142866 142\n",
      "13 Backup 142\n",
      "14 MacOS 142\n",
      "15 Applications 142\n",
      "16 吧 131\n",
      "17 脸 122\n",
      "18 啊 121\n",
      "19 做 121\n"
     ]
    }
   ],
   "source": [
    "for k,v in df_dict.items():\n",
    "\tprint(k+\": \")\n",
    "\tcount_word(v,k,20) # show first 20 phrases for each user"
   ]
  },
  {
   "cell_type": "code",
   "execution_count": 52,
   "metadata": {},
   "outputs": [],
   "source": [
    "key_phrase = \"包装\" # set key phrase here"
   ]
  },
  {
   "cell_type": "code",
   "execution_count": 53,
   "metadata": {},
   "outputs": [
    {
     "data": {
      "image/png": "[encoded data removed]",
      "text/plain": [
       "<matplotlib.figure.Figure at 0x7fd3f590fdd8>"
      ]
     },
     "metadata": {},
     "output_type": "display_data"
    }
   ],
   "source": [
    "%matplotlib inline\n",
    "df_hist = df[df[\"消息内容\"].str.contains(key_phrase)]\n",
    "dates = list(df_hist[\"日期\"])\n",
    "date_list = []\n",
    "for d in dates:\n",
    "\tdate_list.append(int(d.strftime(\"%Y%m%d%H%M%S\")))\n",
    "sns.distplot(date_list, rug=True,label=\"all\")\n",
    "\n",
    "for i,(k,v) in enumerate(df_dict.items()):\n",
    "\tdf_hist = v[v[\"消息内容\"].str.contains(key_phrase)]\n",
    "\tdates = list(df_hist[\"日期\"])\n",
    "\tdate_list = []\n",
    "\tfor d in dates:\n",
    "\t\tdate_list.append(int(d.strftime(\"%Y%m%d%H%M%S\")))\n",
    "\tsns.distplot(date_list, rug=True,label=str(i))\n"
   ]
  },
  {
   "cell_type": "code",
   "execution_count": null,
   "metadata": {},
   "outputs": [],
   "source": []
  }
 ],
 "metadata": {
  "kernelspec": {
   "display_name": "Python 3",
   "language": "python",
   "name": "python3"
  },
  "language_info": {
   "codemirror_mode": {
    "name": "ipython",
    "version": 3
   },
   "file_extension": ".py",
   "mimetype": "text/x-python",
   "name": "python",
   "nbconvert_exporter": "python",
   "pygments_lexer": "ipython3",
   "version": "3.5.4"
  }
 },
 "nbformat": 4,
 "nbformat_minor": 2
}
